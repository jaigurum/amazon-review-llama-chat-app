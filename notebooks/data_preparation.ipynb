{
 "cells": [
  {
   "cell_type": "markdown",
   "metadata": {},
   "source": [
    "# Data Preparation for Llama Model Chat Application\n",
    "\n",
    "This notebook is intended for preparing the Amazon Reviews 2023 dataset used for training and evaluating the Llama models in the Streamlit Chat application. This includes data cleaning, feature engineering, and dataset transformation to ensure it is ready for modeling.\n",
    "\n",
    "## Sections Included:\n",
    "- Load Raw Data\n",
    "- Data Cleaning\n",
    "- Feature Engineering\n",
    "- Save Processed Dataset\n"
   ]
  },
  {
   "cell_type": "code",
   "execution_count": null,
   "metadata": {},
   "outputs": [],
   "source": [
    "from datasets import load_dataset\n",
    "import pandas as pd\n",
    "import numpy as np\n",
    "\n",
    "# Load Amazon Reviews 2023 dataset\n",
    "dataset = load_dataset(\"McAuley-Lab/Amazon-Reviews-2023\", split=\"train\")\n",
    "\n",
    "# Convert dataset to pandas DataFrame\n",
    "raw_data = pd.DataFrame(dataset)\n",
    "\n",
    "# Display the first few rows of raw data\n",
    "raw_data.head()\n"
   ]
  },
  {
   "cell_type": "code",
   "execution_count": null,
   "metadata": {},
   "outputs": [],
   "source": [
    "# Data Cleaning: Handling missing values and removing duplicates\n",
    "clean_data = raw_data.dropna(subset=['review_body']).drop_duplicates()\n",
    "\n",
    "# Remove rows where 'review_body' field is empty\n",
    "clean_data = clean_data[clean_data['review_body'].str.strip() != '']\n",
    "\n",
    "# Display cleaned data summary\n",
    "clean_data.info()\n"
   ]
  },
  {
   "cell_type": "code",
   "execution_count": null,
   "metadata": {},
   "outputs": [],
   "source": [
    "# Feature Engineering: Add custom features\n",
    "# Adding feature to calculate the length of each review\n",
    "clean_data['review_length'] = clean_data['review_body'].apply(len)\n",
    "\n",
    "# Adding a feature to count the number of words in each review\n",
    "clean_data['word_count'] = clean_data['review_body'].apply(lambda x: len(x.split()))\n",
    "\n",
    "# Display first few rows of engineered data\n",
    "clean_data.head()\n"
   ]
  },
  {
   "cell_type": "code",
   "execution_count": null,
   "metadata": {},
   "outputs": [],
   "source": [
    "# Save cleaned and engineered dataset for later use\n",
    "processed_filepath = 'data/processed_amazon_reviews_2023.csv'  # Updated to a realistic file path\n",
    "clean_data.to_csv(processed_filepath, index=False)\n",
    "\n",
    "# Confirm save by displaying message\n",
    "print(f'Processed data saved to {processed_filepath}')"
   ]
  }
 ],
 "metadata": {
  "kernelspec": {
   "display_name": "Python 3",
   "language": "python",
   "name": "python3"
  },
  "language_info": {
   "name": "python",
   "version": "3.x"
  }
 },
 "nbformat": 4,
 "nbformat_minor": 2
}
