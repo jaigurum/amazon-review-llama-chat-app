{
 "cells": [
  {
   "cell_type": "markdown",
   "metadata": {},
   "source": [
    "# Data Preparation for Llama Model Chat Application\n",
    "\n",
    "This notebook is intended for preparing the Amazon Customer Reviews dataset used for training and evaluating the Llama models in the Streamlit Chat application. This includes data cleaning, feature engineering, and dataset transformation to ensure it is ready for modeling.\n",
    "\n",
    "## Sections Included:\n",
    "- Load Raw Data\n",
    "- Data Cleaning\n",
    "- Feature Engineering\n",
    "- Save Processed Dataset\n"
   ]
  },
  {
   "cell_type": "code",
   "execution_count": null,
   "metadata": {},
   "outputs": [],
   "source": [
    "import pandas as pd\n",
    "import numpy as np\n",
    "\n",
    "# Load raw data\n",
    "data_filepath = 'data/amazon_reviews.csv'  # Updated to Amazon Customer Reviews dataset\n",
    "raw_data = pd.read_csv(data_filepath)\n",
    "\n",
    "# Display the first few rows of raw data\n",
    "raw_data.head()\n"
   ]
  },
  {
   "cell_type": "code",
   "execution_count": null,
   "metadata": {},
   "outputs": [],
   "source": [
    "# Data Cleaning: Handling missing values and removing duplicates\n",
    "clean_data = raw_data.dropna().drop_duplicates()\n",
    "\n",
    "# Remove rows where 'review_body' field is empty\n",
    "clean_data = clean_data[clean_data['review_body'].str.strip() != '']\n",
    "\n",
    "# Display cleaned data summary\n",
    "clean_data.info()\n"
   ]
  },
  {
   "cell_type": "code",
   "execution_count": null,
   "metadata": {},
   "outputs": [],
   "source": [
    "# Feature Engineering: Add custom features\n",
    "# Adding feature to calculate the length of each review\n",
    "clean_data['review_length'] = clean_data['review_body'].apply(len)\n",
    "\n",
    "# Adding a feature to count the number of words in each review\n",
    "clean_data['word_count'] = clean_data['review_body'].apply(lambda x: len(x.split()))\n",
    "\n",
    "# Display first few rows of engineered data\n",
    "clean_data.head()\n"
   ]
  },
  {
   "cell_type": "code",
   "execution_count": null,
   "metadata": {},
   "outputs": [],
   "source": [
    "# Save cleaned and engineered dataset for later use\n",
    "processed_filepath = 'data/processed_amazon_reviews.csv'  # Updated to a realistic file path\n",
    "clean_data.to_csv(processed_filepath, index=False)\n",
    "\n",
    "# Confirm save by displaying message\n",
    "print(f'Processed data saved to {processed_filepath}')"
   ]
  }
 ],
 "metadata": {
  "kernelspec": {
   "display_name": "Python 3",
   "language": "python",
   "name": "python3"
  },
  "language_info": {
   "name": "python",
   "version": "3.x"
  }
 },
 "nbformat": 4,
 "nbformat_minor": 2
}
